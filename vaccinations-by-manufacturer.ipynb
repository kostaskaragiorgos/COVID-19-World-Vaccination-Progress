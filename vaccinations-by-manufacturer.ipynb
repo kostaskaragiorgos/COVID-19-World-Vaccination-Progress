{
 "cells": [
  {
   "cell_type": "code",
   "execution_count": 1,
   "metadata": {},
   "outputs": [],
   "source": [
    "import pandas as pd\n",
    "import numpy as np\n",
    "import matplotlib.pyplot as plt"
   ]
  },
  {
   "cell_type": "code",
   "execution_count": 2,
   "metadata": {},
   "outputs": [
    {
     "data": {
      "text/html": [
       "<div>\n",
       "<style scoped>\n",
       "    .dataframe tbody tr th:only-of-type {\n",
       "        vertical-align: middle;\n",
       "    }\n",
       "\n",
       "    .dataframe tbody tr th {\n",
       "        vertical-align: top;\n",
       "    }\n",
       "\n",
       "    .dataframe thead th {\n",
       "        text-align: right;\n",
       "    }\n",
       "</style>\n",
       "<table border=\"1\" class=\"dataframe\">\n",
       "  <thead>\n",
       "    <tr style=\"text-align: right;\">\n",
       "      <th></th>\n",
       "      <th>location</th>\n",
       "      <th>date</th>\n",
       "      <th>vaccine</th>\n",
       "      <th>total_vaccinations</th>\n",
       "    </tr>\n",
       "  </thead>\n",
       "  <tbody>\n",
       "    <tr>\n",
       "      <th>0</th>\n",
       "      <td>Chile</td>\n",
       "      <td>2020-12-24</td>\n",
       "      <td>Pfizer/BioNTech</td>\n",
       "      <td>420</td>\n",
       "    </tr>\n",
       "    <tr>\n",
       "      <th>1</th>\n",
       "      <td>Chile</td>\n",
       "      <td>2020-12-25</td>\n",
       "      <td>Pfizer/BioNTech</td>\n",
       "      <td>5198</td>\n",
       "    </tr>\n",
       "    <tr>\n",
       "      <th>2</th>\n",
       "      <td>Chile</td>\n",
       "      <td>2020-12-26</td>\n",
       "      <td>Pfizer/BioNTech</td>\n",
       "      <td>8338</td>\n",
       "    </tr>\n",
       "    <tr>\n",
       "      <th>3</th>\n",
       "      <td>Chile</td>\n",
       "      <td>2020-12-27</td>\n",
       "      <td>Pfizer/BioNTech</td>\n",
       "      <td>8649</td>\n",
       "    </tr>\n",
       "    <tr>\n",
       "      <th>4</th>\n",
       "      <td>Chile</td>\n",
       "      <td>2020-12-28</td>\n",
       "      <td>Pfizer/BioNTech</td>\n",
       "      <td>8649</td>\n",
       "    </tr>\n",
       "  </tbody>\n",
       "</table>\n",
       "</div>"
      ],
      "text/plain": [
       "  location        date          vaccine  total_vaccinations\n",
       "0    Chile  2020-12-24  Pfizer/BioNTech                 420\n",
       "1    Chile  2020-12-25  Pfizer/BioNTech                5198\n",
       "2    Chile  2020-12-26  Pfizer/BioNTech                8338\n",
       "3    Chile  2020-12-27  Pfizer/BioNTech                8649\n",
       "4    Chile  2020-12-28  Pfizer/BioNTech                8649"
      ]
     },
     "execution_count": 2,
     "metadata": {},
     "output_type": "execute_result"
    }
   ],
   "source": [
    "df = pd.read_csv('vaccinations-by-manufacturer.csv')\n",
    "df.head()"
   ]
  },
  {
   "cell_type": "code",
   "execution_count": 3,
   "metadata": {},
   "outputs": [
    {
     "data": {
      "text/html": [
       "<div>\n",
       "<style scoped>\n",
       "    .dataframe tbody tr th:only-of-type {\n",
       "        vertical-align: middle;\n",
       "    }\n",
       "\n",
       "    .dataframe tbody tr th {\n",
       "        vertical-align: top;\n",
       "    }\n",
       "\n",
       "    .dataframe thead th {\n",
       "        text-align: right;\n",
       "    }\n",
       "</style>\n",
       "<table border=\"1\" class=\"dataframe\">\n",
       "  <thead>\n",
       "    <tr style=\"text-align: right;\">\n",
       "      <th></th>\n",
       "      <th>total_vaccinations</th>\n",
       "    </tr>\n",
       "  </thead>\n",
       "  <tbody>\n",
       "    <tr>\n",
       "      <th>count</th>\n",
       "      <td>2.266000e+03</td>\n",
       "    </tr>\n",
       "    <tr>\n",
       "      <th>mean</th>\n",
       "      <td>3.902910e+06</td>\n",
       "    </tr>\n",
       "    <tr>\n",
       "      <th>std</th>\n",
       "      <td>1.269821e+07</td>\n",
       "    </tr>\n",
       "    <tr>\n",
       "      <th>min</th>\n",
       "      <td>0.000000e+00</td>\n",
       "    </tr>\n",
       "    <tr>\n",
       "      <th>25%</th>\n",
       "      <td>1.071675e+04</td>\n",
       "    </tr>\n",
       "    <tr>\n",
       "      <th>50%</th>\n",
       "      <td>1.060920e+05</td>\n",
       "    </tr>\n",
       "    <tr>\n",
       "      <th>75%</th>\n",
       "      <td>1.172238e+06</td>\n",
       "    </tr>\n",
       "    <tr>\n",
       "      <th>max</th>\n",
       "      <td>9.658678e+07</td>\n",
       "    </tr>\n",
       "  </tbody>\n",
       "</table>\n",
       "</div>"
      ],
      "text/plain": [
       "       total_vaccinations\n",
       "count        2.266000e+03\n",
       "mean         3.902910e+06\n",
       "std          1.269821e+07\n",
       "min          0.000000e+00\n",
       "25%          1.071675e+04\n",
       "50%          1.060920e+05\n",
       "75%          1.172238e+06\n",
       "max          9.658678e+07"
      ]
     },
     "execution_count": 3,
     "metadata": {},
     "output_type": "execute_result"
    }
   ],
   "source": [
    "df.describe()"
   ]
  },
  {
   "cell_type": "code",
   "execution_count": 4,
   "metadata": {},
   "outputs": [
    {
     "name": "stdout",
     "output_type": "stream",
     "text": [
      "<class 'pandas.core.frame.DataFrame'>\n",
      "RangeIndex: 2266 entries, 0 to 2265\n",
      "Data columns (total 4 columns):\n",
      " #   Column              Non-Null Count  Dtype \n",
      "---  ------              --------------  ----- \n",
      " 0   location            2266 non-null   object\n",
      " 1   date                2266 non-null   object\n",
      " 2   vaccine             2266 non-null   object\n",
      " 3   total_vaccinations  2266 non-null   int64 \n",
      "dtypes: int64(1), object(3)\n",
      "memory usage: 70.9+ KB\n"
     ]
    }
   ],
   "source": [
    "df.info()"
   ]
  },
  {
   "cell_type": "code",
   "execution_count": 6,
   "metadata": {},
   "outputs": [
    {
     "data": {
      "text/plain": [
       "0               Chile\n",
       "1               Chile\n",
       "2               Chile\n",
       "3               Chile\n",
       "4               Chile\n",
       "            ...      \n",
       "2261    United States\n",
       "2262    United States\n",
       "2263    United States\n",
       "2264    United States\n",
       "2265    United States\n",
       "Name: location, Length: 2266, dtype: object"
      ]
     },
     "execution_count": 6,
     "metadata": {},
     "output_type": "execute_result"
    }
   ],
   "source": [
    "df['location']"
   ]
  },
  {
   "cell_type": "code",
   "execution_count": 7,
   "metadata": {},
   "outputs": [
    {
     "data": {
      "text/plain": [
       "0       2020-12-24\n",
       "1       2020-12-25\n",
       "2       2020-12-26\n",
       "3       2020-12-27\n",
       "4       2020-12-28\n",
       "           ...    \n",
       "2261    2021-04-10\n",
       "2262    2021-04-10\n",
       "2263    2021-04-11\n",
       "2264    2021-04-11\n",
       "2265    2021-04-11\n",
       "Name: date, Length: 2266, dtype: object"
      ]
     },
     "execution_count": 7,
     "metadata": {},
     "output_type": "execute_result"
    }
   ],
   "source": [
    "df['date']"
   ]
  },
  {
   "cell_type": "code",
   "execution_count": 8,
   "metadata": {},
   "outputs": [
    {
     "data": {
      "text/plain": [
       "0       Pfizer/BioNTech\n",
       "1       Pfizer/BioNTech\n",
       "2       Pfizer/BioNTech\n",
       "3       Pfizer/BioNTech\n",
       "4       Pfizer/BioNTech\n",
       "             ...       \n",
       "2261            Moderna\n",
       "2262    Pfizer/BioNTech\n",
       "2263    Johnson&Johnson\n",
       "2264            Moderna\n",
       "2265    Pfizer/BioNTech\n",
       "Name: vaccine, Length: 2266, dtype: object"
      ]
     },
     "execution_count": 8,
     "metadata": {},
     "output_type": "execute_result"
    }
   ],
   "source": [
    "df['vaccine']"
   ]
  },
  {
   "cell_type": "code",
   "execution_count": 9,
   "metadata": {},
   "outputs": [
    {
     "data": {
      "text/plain": [
       "0            420\n",
       "1           5198\n",
       "2           8338\n",
       "3           8649\n",
       "4           8649\n",
       "          ...   \n",
       "2261    82622178\n",
       "2262    94715143\n",
       "2263     6453740\n",
       "2264    83847244\n",
       "2265    96586783\n",
       "Name: total_vaccinations, Length: 2266, dtype: int64"
      ]
     },
     "execution_count": 9,
     "metadata": {},
     "output_type": "execute_result"
    }
   ],
   "source": [
    "df['total_vaccinations']"
   ]
  },
  {
   "cell_type": "code",
   "execution_count": 5,
   "metadata": {},
   "outputs": [],
   "source": [
    "df.drop_duplicates( subset=['location', 'vaccine'], keep='last', inplace=True)"
   ]
  },
  {
   "cell_type": "code",
   "execution_count": 6,
   "metadata": {},
   "outputs": [
    {
     "data": {
      "text/html": [
       "<div>\n",
       "<style scoped>\n",
       "    .dataframe tbody tr th:only-of-type {\n",
       "        vertical-align: middle;\n",
       "    }\n",
       "\n",
       "    .dataframe tbody tr th {\n",
       "        vertical-align: top;\n",
       "    }\n",
       "\n",
       "    .dataframe thead th {\n",
       "        text-align: right;\n",
       "    }\n",
       "</style>\n",
       "<table border=\"1\" class=\"dataframe\">\n",
       "  <thead>\n",
       "    <tr style=\"text-align: right;\">\n",
       "      <th></th>\n",
       "      <th>location</th>\n",
       "      <th>date</th>\n",
       "      <th>vaccine</th>\n",
       "      <th>total_vaccinations</th>\n",
       "    </tr>\n",
       "  </thead>\n",
       "  <tbody>\n",
       "    <tr>\n",
       "      <th>297</th>\n",
       "      <td>Chile</td>\n",
       "      <td>2021-05-27</td>\n",
       "      <td>Oxford/AstraZeneca</td>\n",
       "      <td>193373</td>\n",
       "    </tr>\n",
       "    <tr>\n",
       "      <th>298</th>\n",
       "      <td>Chile</td>\n",
       "      <td>2021-05-27</td>\n",
       "      <td>Pfizer/BioNTech</td>\n",
       "      <td>3225952</td>\n",
       "    </tr>\n",
       "    <tr>\n",
       "      <th>299</th>\n",
       "      <td>Chile</td>\n",
       "      <td>2021-05-27</td>\n",
       "      <td>Sinovac</td>\n",
       "      <td>14803159</td>\n",
       "    </tr>\n",
       "    <tr>\n",
       "      <th>728</th>\n",
       "      <td>Czechia</td>\n",
       "      <td>2021-05-28</td>\n",
       "      <td>Johnson&amp;Johnson</td>\n",
       "      <td>38018</td>\n",
       "    </tr>\n",
       "    <tr>\n",
       "      <th>729</th>\n",
       "      <td>Czechia</td>\n",
       "      <td>2021-05-28</td>\n",
       "      <td>Moderna</td>\n",
       "      <td>483514</td>\n",
       "    </tr>\n",
       "  </tbody>\n",
       "</table>\n",
       "</div>"
      ],
      "text/plain": [
       "    location        date             vaccine  total_vaccinations\n",
       "297    Chile  2021-05-27  Oxford/AstraZeneca              193373\n",
       "298    Chile  2021-05-27     Pfizer/BioNTech             3225952\n",
       "299    Chile  2021-05-27             Sinovac            14803159\n",
       "728  Czechia  2021-05-28     Johnson&Johnson               38018\n",
       "729  Czechia  2021-05-28             Moderna              483514"
      ]
     },
     "execution_count": 6,
     "metadata": {},
     "output_type": "execute_result"
    }
   ],
   "source": [
    "df.head()"
   ]
  },
  {
   "cell_type": "code",
   "execution_count": 9,
   "metadata": {},
   "outputs": [
    {
     "data": {
      "text/html": [
       "<div>\n",
       "<style scoped>\n",
       "    .dataframe tbody tr th:only-of-type {\n",
       "        vertical-align: middle;\n",
       "    }\n",
       "\n",
       "    .dataframe tbody tr th {\n",
       "        vertical-align: top;\n",
       "    }\n",
       "\n",
       "    .dataframe thead th {\n",
       "        text-align: right;\n",
       "    }\n",
       "</style>\n",
       "<table border=\"1\" class=\"dataframe\">\n",
       "  <thead>\n",
       "    <tr style=\"text-align: right;\">\n",
       "      <th></th>\n",
       "      <th>location</th>\n",
       "      <th>date</th>\n",
       "      <th>vaccine</th>\n",
       "      <th>total_vaccinations</th>\n",
       "    </tr>\n",
       "  </thead>\n",
       "  <tbody>\n",
       "    <tr>\n",
       "      <th>297</th>\n",
       "      <td>Chile</td>\n",
       "      <td>2021-05-27</td>\n",
       "      <td>Oxford/AstraZeneca</td>\n",
       "      <td>193373</td>\n",
       "    </tr>\n",
       "    <tr>\n",
       "      <th>730</th>\n",
       "      <td>Czechia</td>\n",
       "      <td>2021-05-28</td>\n",
       "      <td>Oxford/AstraZeneca</td>\n",
       "      <td>516648</td>\n",
       "    </tr>\n",
       "    <tr>\n",
       "      <th>1162</th>\n",
       "      <td>France</td>\n",
       "      <td>2021-05-27</td>\n",
       "      <td>Oxford/AstraZeneca</td>\n",
       "      <td>4870556</td>\n",
       "    </tr>\n",
       "    <tr>\n",
       "      <th>1774</th>\n",
       "      <td>Germany</td>\n",
       "      <td>2021-05-28</td>\n",
       "      <td>Oxford/AstraZeneca</td>\n",
       "      <td>9072385</td>\n",
       "    </tr>\n",
       "    <tr>\n",
       "      <th>2374</th>\n",
       "      <td>Iceland</td>\n",
       "      <td>2021-05-27</td>\n",
       "      <td>Oxford/AstraZeneca</td>\n",
       "      <td>67671</td>\n",
       "    </tr>\n",
       "    <tr>\n",
       "      <th>2822</th>\n",
       "      <td>Italy</td>\n",
       "      <td>2021-05-28</td>\n",
       "      <td>Oxford/AstraZeneca</td>\n",
       "      <td>6926397</td>\n",
       "    </tr>\n",
       "    <tr>\n",
       "      <th>3209</th>\n",
       "      <td>Latvia</td>\n",
       "      <td>2021-05-28</td>\n",
       "      <td>Oxford/AstraZeneca</td>\n",
       "      <td>191126</td>\n",
       "    </tr>\n",
       "    <tr>\n",
       "      <th>3650</th>\n",
       "      <td>Lithuania</td>\n",
       "      <td>2021-05-28</td>\n",
       "      <td>Oxford/AstraZeneca</td>\n",
       "      <td>321067</td>\n",
       "    </tr>\n",
       "    <tr>\n",
       "      <th>4039</th>\n",
       "      <td>Romania</td>\n",
       "      <td>2021-05-28</td>\n",
       "      <td>Oxford/AstraZeneca</td>\n",
       "      <td>782802</td>\n",
       "    </tr>\n",
       "  </tbody>\n",
       "</table>\n",
       "</div>"
      ],
      "text/plain": [
       "       location        date             vaccine  total_vaccinations\n",
       "297       Chile  2021-05-27  Oxford/AstraZeneca              193373\n",
       "730     Czechia  2021-05-28  Oxford/AstraZeneca              516648\n",
       "1162     France  2021-05-27  Oxford/AstraZeneca             4870556\n",
       "1774    Germany  2021-05-28  Oxford/AstraZeneca             9072385\n",
       "2374    Iceland  2021-05-27  Oxford/AstraZeneca               67671\n",
       "2822      Italy  2021-05-28  Oxford/AstraZeneca             6926397\n",
       "3209     Latvia  2021-05-28  Oxford/AstraZeneca              191126\n",
       "3650  Lithuania  2021-05-28  Oxford/AstraZeneca              321067\n",
       "4039    Romania  2021-05-28  Oxford/AstraZeneca              782802"
      ]
     },
     "execution_count": 9,
     "metadata": {},
     "output_type": "execute_result"
    }
   ],
   "source": [
    "df.loc[df['vaccine']==\"Oxford/AstraZeneca\"]"
   ]
  },
  {
   "cell_type": "code",
   "execution_count": 12,
   "metadata": {},
   "outputs": [
    {
     "data": {
      "text/html": [
       "<div>\n",
       "<style scoped>\n",
       "    .dataframe tbody tr th:only-of-type {\n",
       "        vertical-align: middle;\n",
       "    }\n",
       "\n",
       "    .dataframe tbody tr th {\n",
       "        vertical-align: top;\n",
       "    }\n",
       "\n",
       "    .dataframe thead th {\n",
       "        text-align: right;\n",
       "    }\n",
       "</style>\n",
       "<table border=\"1\" class=\"dataframe\">\n",
       "  <thead>\n",
       "    <tr style=\"text-align: right;\">\n",
       "      <th></th>\n",
       "      <th>location</th>\n",
       "      <th>date</th>\n",
       "      <th>vaccine</th>\n",
       "      <th>total_vaccinations</th>\n",
       "    </tr>\n",
       "  </thead>\n",
       "  <tbody>\n",
       "  </tbody>\n",
       "</table>\n",
       "</div>"
      ],
      "text/plain": [
       "Empty DataFrame\n",
       "Columns: [location, date, vaccine, total_vaccinations]\n",
       "Index: []"
      ]
     },
     "execution_count": 12,
     "metadata": {},
     "output_type": "execute_result"
    }
   ],
   "source": [
    "df.loc[df['location'] == \"Greece\"]"
   ]
  },
  {
   "cell_type": "code",
   "execution_count": 13,
   "metadata": {},
   "outputs": [
    {
     "data": {
      "text/plain": [
       "Germany          4\n",
       "Latvia           4\n",
       "Czechia          4\n",
       "Lithuania        4\n",
       "Iceland          4\n",
       "Italy            4\n",
       "Romania          4\n",
       "France           4\n",
       "United States    3\n",
       "Chile            3\n",
       "Switzerland      2\n",
       "Name: location, dtype: int64"
      ]
     },
     "execution_count": 13,
     "metadata": {},
     "output_type": "execute_result"
    }
   ],
   "source": [
    "df['location'].value_counts()"
   ]
  },
  {
   "cell_type": "code",
   "execution_count": null,
   "metadata": {},
   "outputs": [],
   "source": []
  }
 ],
 "metadata": {
  "kernelspec": {
   "display_name": "Python 3",
   "language": "python",
   "name": "python3"
  },
  "language_info": {
   "codemirror_mode": {
    "name": "ipython",
    "version": 3
   },
   "file_extension": ".py",
   "mimetype": "text/x-python",
   "name": "python",
   "nbconvert_exporter": "python",
   "pygments_lexer": "ipython3",
   "version": "3.6.7"
  }
 },
 "nbformat": 4,
 "nbformat_minor": 2
}
